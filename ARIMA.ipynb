{
 "cells": [
  {
   "cell_type": "markdown",
   "id": "52ec26fd",
   "metadata": {},
   "source": [
    "### What is exactly an ARIMA model?\n",
    "in time series analysis, an autoregressive integrated moving average (ARIMA) model is a generalization of an autoregressive(AR) moving average(MA)model. Both of these models are fitted to time series data either to better understand the data or to predict future points in the series (forecasting).\n",
    "\n",
    "(MA) use the past errors and (AR) use the past datas to forecasting, and together with each other they make ARMA and when we make the integrated version using differencing, it will be ARIMA.\n",
    "\n",
    "so, depends on choosing the best order of p(nubmer of past datas in (AR)), d(number of differencing) and q(numbmer of past errors in (MA)) as an input in ARIMA model, we can get a proper forecasting.\n",
    "\n",
    "#### what is ACF plot:\n",
    "The ACF (autocorrelation function) is the correlation of the time series with its lags. It measures the linear relationship between lagged values of the time series. For example, we can measure the autocorrelation of yt and yt-k for different values of k.\n",
    "\n",
    "#### what is PACF plot:\n",
    "The PACF (partial autocorrelation function) shows the partial correlation of the time series with its lags, after removing the effects of lower-order-lags between them. For example, the partial autocorrelation of yt and yt-k is the correlation that is not explained by their relationships with the lags yt-1\n",
    "yt-2, …, yt-k+1. It measures the balance amount of variance in yt-k to predict the future value of yt.\n",
    "This is because the PACF measures the balance variance of the lags; it helps tell us whether we should include such lag within the auto-regressive (AR) models. While the ACF measures the correlations with the lags, it helps judge the moving average (MA) models. Most of the time, we should focus on either the AR or the MA models, not mixed.\n",
    "\n",
    "#### why is stationary needed:\n",
    "\n",
    "A stationary time series is one whose properties do not depend on the time at which the series is observed. so our input data must be stationary.\n",
    "why is it so important? in order to integrate the autoregressive(AR) and moving average(MA) in ARMA and make an ARIMA, we must take differencing which is a method of transforming a non-stationary time series into a stationary one. This is an important step in preparing data to be used in an ARIMA model.\n",
    "one approach is to use p_value(the probability that the results from your sample data occurred by chance).\n",
    "\n",
    "#### our procedure:\n",
    "first i get the right ARIMA_order using p_value check(for d), ACF(for q) and PACF(for p) and model a forecasting, then put my random order to ARIMA to show which one is more accurate to proof why is it so important to use the best fit for (p,d,q).\n",
    "\n"
   ]
  },
  {
   "cell_type": "markdown",
   "id": "ad01d67a",
   "metadata": {},
   "source": [
    "# importing the needed Libraries"
   ]
  },
  {
   "cell_type": "code",
   "execution_count": 1,
   "id": "06d95fce",
   "metadata": {},
   "outputs": [],
   "source": [
    "import pandas as pd\n",
    "import numpy as np\n",
    "import matplotlib.pyplot as plt\n",
    "import seaborn as sns\n",
    "from statsmodels.graphics.tsaplots import plot_acf, plot_pacf, plot_predict\n",
    "from statsmodels.tsa.stattools import adfuller\n",
    "from statsmodels.tsa.arima_model import ARIMA\n"
   ]
  },
  {
   "cell_type": "markdown",
   "id": "b6e5cc90",
   "metadata": {},
   "source": [
    "# Reading the dataset"
   ]
  },
  {
   "cell_type": "code",
   "execution_count": 2,
   "id": "67925268",
   "metadata": {},
   "outputs": [],
   "source": [
    "df = pd.read_csv('ARIMA-dataset.csv')"
   ]
  },
  {
   "cell_type": "markdown",
   "id": "caa4d059",
   "metadata": {},
   "source": [
    "### show what we have"
   ]
  },
  {
   "cell_type": "code",
   "execution_count": 3,
   "id": "c7e68d35",
   "metadata": {
    "scrolled": true
   },
   "outputs": [
    {
     "data": {
      "text/html": [
       "<div>\n",
       "<style scoped>\n",
       "    .dataframe tbody tr th:only-of-type {\n",
       "        vertical-align: middle;\n",
       "    }\n",
       "\n",
       "    .dataframe tbody tr th {\n",
       "        vertical-align: top;\n",
       "    }\n",
       "\n",
       "    .dataframe thead th {\n",
       "        text-align: right;\n",
       "    }\n",
       "</style>\n",
       "<table border=\"1\" class=\"dataframe\">\n",
       "  <thead>\n",
       "    <tr style=\"text-align: right;\">\n",
       "      <th></th>\n",
       "      <th>time</th>\n",
       "      <th>lat</th>\n",
       "      <th>lon</th>\n",
       "      <th>dev_acc_d</th>\n",
       "    </tr>\n",
       "  </thead>\n",
       "  <tbody>\n",
       "    <tr>\n",
       "      <th>0</th>\n",
       "      <td>2022-03-19 15:12:54</td>\n",
       "      <td>35.724380</td>\n",
       "      <td>51.386521</td>\n",
       "      <td>0.00000</td>\n",
       "    </tr>\n",
       "    <tr>\n",
       "      <th>1</th>\n",
       "      <td>2022-03-19 15:12:59</td>\n",
       "      <td>35.723492</td>\n",
       "      <td>51.385984</td>\n",
       "      <td>0.00000</td>\n",
       "    </tr>\n",
       "    <tr>\n",
       "      <th>2</th>\n",
       "      <td>2022-03-19 15:13:04</td>\n",
       "      <td>35.723234</td>\n",
       "      <td>51.386712</td>\n",
       "      <td>0.07172</td>\n",
       "    </tr>\n",
       "    <tr>\n",
       "      <th>3</th>\n",
       "      <td>2022-03-19 15:13:09</td>\n",
       "      <td>35.723138</td>\n",
       "      <td>51.387657</td>\n",
       "      <td>0.15773</td>\n",
       "    </tr>\n",
       "    <tr>\n",
       "      <th>4</th>\n",
       "      <td>2022-03-19 15:13:14</td>\n",
       "      <td>35.723082</td>\n",
       "      <td>51.388778</td>\n",
       "      <td>0.25916</td>\n",
       "    </tr>\n",
       "  </tbody>\n",
       "</table>\n",
       "</div>"
      ],
      "text/plain": [
       "                  time        lat        lon  dev_acc_d\n",
       "0  2022-03-19 15:12:54  35.724380  51.386521    0.00000\n",
       "1  2022-03-19 15:12:59  35.723492  51.385984    0.00000\n",
       "2  2022-03-19 15:13:04  35.723234  51.386712    0.07172\n",
       "3  2022-03-19 15:13:09  35.723138  51.387657    0.15773\n",
       "4  2022-03-19 15:13:14  35.723082  51.388778    0.25916"
      ]
     },
     "execution_count": 3,
     "metadata": {},
     "output_type": "execute_result"
    }
   ],
   "source": [
    "df.head()"
   ]
  },
  {
   "cell_type": "markdown",
   "id": "44c57468",
   "metadata": {},
   "source": [
    "# Preprocessing"
   ]
  },
  {
   "cell_type": "markdown",
   "id": "a19e67da",
   "metadata": {},
   "source": [
    "## null values:"
   ]
  },
  {
   "cell_type": "markdown",
   "id": "5d69e29b",
   "metadata": {},
   "source": [
    "##### DF info by calling the info() func, inorder to ditect null values.  As you can see, there is some null V in column: \"dev_acc_d\" because we have 47091 entries but \"dev_acc_d\" has less than our Total entries."
   ]
  },
  {
   "cell_type": "code",
   "execution_count": 4,
   "id": "4d660bbd",
   "metadata": {
    "scrolled": true
   },
   "outputs": [
    {
     "name": "stdout",
     "output_type": "stream",
     "text": [
      "<class 'pandas.core.frame.DataFrame'>\n",
      "RangeIndex: 47091 entries, 0 to 47090\n",
      "Data columns (total 4 columns):\n",
      " #   Column     Non-Null Count  Dtype  \n",
      "---  ------     --------------  -----  \n",
      " 0   time       47091 non-null  object \n",
      " 1   lat        47091 non-null  float64\n",
      " 2   lon        47091 non-null  float64\n",
      " 3   dev_acc_d  45527 non-null  float64\n",
      "dtypes: float64(3), object(1)\n",
      "memory usage: 1.4+ MB\n"
     ]
    }
   ],
   "source": [
    "df.info()"
   ]
  },
  {
   "cell_type": "markdown",
   "id": "c999b08d",
   "metadata": {},
   "source": [
    "##### Removing the null values by Drobing the relevant Rows, then checked the df again.   now we ain't have null values."
   ]
  },
  {
   "cell_type": "code",
   "execution_count": 5,
   "id": "54a7c4ae",
   "metadata": {},
   "outputs": [
    {
     "name": "stdout",
     "output_type": "stream",
     "text": [
      "<class 'pandas.core.frame.DataFrame'>\n",
      "Int64Index: 45527 entries, 0 to 47090\n",
      "Data columns (total 4 columns):\n",
      " #   Column     Non-Null Count  Dtype  \n",
      "---  ------     --------------  -----  \n",
      " 0   time       45527 non-null  object \n",
      " 1   lat        45527 non-null  float64\n",
      " 2   lon        45527 non-null  float64\n",
      " 3   dev_acc_d  45527 non-null  float64\n",
      "dtypes: float64(3), object(1)\n",
      "memory usage: 1.7+ MB\n"
     ]
    }
   ],
   "source": [
    "#removing the entire row of null datas\n",
    "df=df.dropna(subset = [\"dev_acc_d\"])\n",
    "df.info()"
   ]
  },
  {
   "cell_type": "markdown",
   "id": "439ac081",
   "metadata": {},
   "source": [
    "## Outlier detection:"
   ]
  },
  {
   "cell_type": "markdown",
   "id": "1fda4f7b",
   "metadata": {},
   "source": [
    "##### using  box whisker by \"seaborn\" to know whether our df has any outlier data or not. As you can see there is no outlier."
   ]
  },
  {
   "cell_type": "code",
   "execution_count": 6,
   "id": "2aca708e",
   "metadata": {
    "scrolled": true
   },
   "outputs": [
    {
     "data": {
      "text/html": [
       "<div>\n",
       "<style scoped>\n",
       "    .dataframe tbody tr th:only-of-type {\n",
       "        vertical-align: middle;\n",
       "    }\n",
       "\n",
       "    .dataframe tbody tr th {\n",
       "        vertical-align: top;\n",
       "    }\n",
       "\n",
       "    .dataframe thead th {\n",
       "        text-align: right;\n",
       "    }\n",
       "</style>\n",
       "<table border=\"1\" class=\"dataframe\">\n",
       "  <thead>\n",
       "    <tr style=\"text-align: right;\">\n",
       "      <th></th>\n",
       "      <th>lat</th>\n",
       "      <th>lon</th>\n",
       "      <th>dev_acc_d</th>\n",
       "    </tr>\n",
       "  </thead>\n",
       "  <tbody>\n",
       "    <tr>\n",
       "      <th>count</th>\n",
       "      <td>45527.000000</td>\n",
       "      <td>45527.000000</td>\n",
       "      <td>45527.000000</td>\n",
       "    </tr>\n",
       "    <tr>\n",
       "      <th>mean</th>\n",
       "      <td>31.513659</td>\n",
       "      <td>55.703697</td>\n",
       "      <td>1218.533347</td>\n",
       "    </tr>\n",
       "    <tr>\n",
       "      <th>std</th>\n",
       "      <td>3.761613</td>\n",
       "      <td>4.107918</td>\n",
       "      <td>1092.691904</td>\n",
       "    </tr>\n",
       "    <tr>\n",
       "      <th>min</th>\n",
       "      <td>25.350712</td>\n",
       "      <td>50.849392</td>\n",
       "      <td>0.000000</td>\n",
       "    </tr>\n",
       "    <tr>\n",
       "      <th>25%</th>\n",
       "      <td>28.974553</td>\n",
       "      <td>51.422008</td>\n",
       "      <td>34.809530</td>\n",
       "    </tr>\n",
       "    <tr>\n",
       "      <th>50%</th>\n",
       "      <td>31.112903</td>\n",
       "      <td>54.991661</td>\n",
       "      <td>1167.767620</td>\n",
       "    </tr>\n",
       "    <tr>\n",
       "      <th>75%</th>\n",
       "      <td>35.718966</td>\n",
       "      <td>60.395760</td>\n",
       "      <td>2080.198240</td>\n",
       "    </tr>\n",
       "    <tr>\n",
       "      <th>max</th>\n",
       "      <td>35.724789</td>\n",
       "      <td>61.498372</td>\n",
       "      <td>3428.657320</td>\n",
       "    </tr>\n",
       "  </tbody>\n",
       "</table>\n",
       "</div>"
      ],
      "text/plain": [
       "                lat           lon     dev_acc_d\n",
       "count  45527.000000  45527.000000  45527.000000\n",
       "mean      31.513659     55.703697   1218.533347\n",
       "std        3.761613      4.107918   1092.691904\n",
       "min       25.350712     50.849392      0.000000\n",
       "25%       28.974553     51.422008     34.809530\n",
       "50%       31.112903     54.991661   1167.767620\n",
       "75%       35.718966     60.395760   2080.198240\n",
       "max       35.724789     61.498372   3428.657320"
      ]
     },
     "execution_count": 6,
     "metadata": {},
     "output_type": "execute_result"
    },
    {
     "data": {
      "image/png": "[encoded data removed]",
      "text/plain": [
       "<Figure size 432x288 with 1 Axes>"
      ]
     },
     "metadata": {
      "needs_background": "light"
     },
     "output_type": "display_data"
    }
   ],
   "source": [
    "sns.boxplot(data=df,x=df[\"dev_acc_d\"])\n",
    "plt.title(\"Boxplot of total distance\")\n",
    "df.describe()"
   ]
  },
  {
   "cell_type": "markdown",
   "id": "8602ccf0",
   "metadata": {},
   "source": [
    "## Preparing the columns and data that are really needed to put in acf/pacf and ARIMA"
   ]
  },
  {
   "cell_type": "code",
   "execution_count": 7,
   "id": "5833aba4",
   "metadata": {},
   "outputs": [],
   "source": [
    "#removing the 'lat' and 'lon' columns. no need for them because we just need the total distance in each day\n",
    "df = df.drop(columns =['lat' , 'lon'])"
   ]
  },
  {
   "cell_type": "code",
   "execution_count": 8,
   "id": "4eb73ebf",
   "metadata": {},
   "outputs": [
    {
     "name": "stdout",
     "output_type": "stream",
     "text": [
      "          date    distance\n",
      "0   2022-03-19   25.184670\n",
      "1   2022-03-20  401.243350\n",
      "2   2022-03-21  401.244490\n",
      "3   2022-03-22  325.358580\n",
      "4   2022-03-23  202.002940\n",
      "5   2022-03-24  552.444160\n",
      "6   2022-03-25  342.865732\n",
      "7   2022-03-26  297.042210\n",
      "8   2022-03-27  342.865732\n",
      "9   2022-03-28  342.865732\n",
      "10  2022-03-29  300.806880\n",
      "11  2022-03-30  922.060740\n",
      "12  2022-03-31    1.269300\n"
     ]
    }
   ],
   "source": [
    "#seprating the 'date' from the 'time' in first column by split func, then put the distinct values in 'new_date'\n",
    "#get the last value of column 'dev_acc_d' for each 'date' and put it in 'new_dist'.\n",
    "new_date = []\n",
    "new_dist = []\n",
    "new_date.append(df[df.columns[0]][0].split(\" \")[0])\n",
    "new_dist.append(df[df.columns[-1]][0])\n",
    "counter = 0\n",
    "for index, row in df.iterrows():\n",
    "    if new_date[counter] != row[df.columns[0]].split(\" \")[0]:\n",
    "        new_date.append(row[df.columns[0]].split(\" \")[0])\n",
    "        new_dist.append(row[df.columns[-1]])\n",
    "        counter += 1\n",
    "    new_dist[counter] = row[df.columns[-1]]\n",
    "\n",
    "#getting the difference of distance from the last day and the day before and then overright it to new_dist.\n",
    "#now we have just the total distance in each day \n",
    "for i in range(1,len(new_date)):\n",
    "    new_dist[-i] = new_dist[-i] - new_dist[-i-1]\n",
    "\n",
    "#append the 'new_date' and 'new_dist' to each other\n",
    "date_dist = []\n",
    "for i in range(len(new_date)):\n",
    "    date_dist.append([new_date[i],new_dist[i]]) \n",
    "    \n",
    "#put the appended list to a dataframe and named its columns to 'date' and 'distance'.\n",
    "    dff = pd.DataFrame.from_records(date_dist)\n",
    "    dff = dff.rename(columns={0: 'date', 1: 'distance'})\n",
    "    \n",
    "#maybe we have some missed days. this code check if we have missed days or not.\n",
    "#one approach is to insert the mean value of column 'distance' into the missed days.\n",
    "#so i insert the dff.distance.mean() into the missed days.  \n",
    "for i in range(len(dff.date)-1):\n",
    "    if int(dff.date[i].split(\"-\")[-1]) - int(dff.date[i+1].split(\"-\")[-1]) != -1:\n",
    "        df_temp = pd.DataFrame({\"date\": \"2022-03-\"+str(int(dff.date[i].split(\"-\")[-1])+1), \"distance\": dff.distance.mean()}, index=[i])\n",
    "        dff = pd.concat([dff.iloc[:i+1], df_temp, dff.iloc[i+1:]]).reset_index(drop=True)\n",
    "print(dff)   "
   ]
  },
  {
   "cell_type": "code",
   "execution_count": 9,
   "id": "c6b1d4b6",
   "metadata": {},
   "outputs": [
    {
     "data": {
      "text/plain": [
       "Text(0.5, 1.0, 'total distance per day')"
      ]
     },
     "execution_count": 9,
     "metadata": {},
     "output_type": "execute_result"
    },
    {
     "data": {
      "image/png": "[encoded data removed]",
      "text/plain": [
       "<Figure size 432x288 with 1 Axes>"
      ]
     },
     "metadata": {
      "needs_background": "light"
     },
     "output_type": "display_data"
    }
   ],
   "source": [
    "#showing our plot\n",
    "dff.plot()\n",
    "plt.xlabel(\"day\")\n",
    "plt.ylabel(\"distance\")\n",
    "plt.xaxis = np.arange(0, 12, 2)\n",
    "plt.title(\"total distance per day\")"
   ]
  },
  {
   "cell_type": "markdown",
   "id": "cf801bad",
   "metadata": {},
   "source": [
    "## Stationary check:"
   ]
  },
  {
   "cell_type": "markdown",
   "id": "b3fd068d",
   "metadata": {},
   "source": [
    "##### one approach is to use p_value(the probability that the results from your sample data occurred by chance). if p_value goes upto 0.05, proofs that our data is non-stationary."
   ]
  },
  {
   "cell_type": "code",
   "execution_count": 10,
   "id": "70abf404",
   "metadata": {
    "scrolled": false
   },
   "outputs": [
    {
     "name": "stdout",
     "output_type": "stream",
     "text": [
      "p-value: 7.344220151440718e-07\n"
     ]
    }
   ],
   "source": [
    "# use adfuller func from statsmodels.tsa.stattools to compute the p_value\n",
    "adf_test = adfuller(dff.distance)\n",
    "print(f'p-value: {adf_test[1]}')"
   ]
  },
  {
   "cell_type": "markdown",
   "id": "93ef23b2",
   "metadata": {},
   "source": [
    "##### our p-value proofs that the data is not Stationary. \n",
    "##### we found out that the d value(differencing) in ARIMA_order must be at least 1. because the d shows us how many differencing we need(0 or 1 or 2).\n",
    "##### let's check if we need 2steps differencing or not."
   ]
  },
  {
   "cell_type": "code",
   "execution_count": 11,
   "id": "6b5af4e1",
   "metadata": {},
   "outputs": [
    {
     "name": "stdout",
     "output_type": "stream",
     "text": [
      "p-value: 0.005189807201270715\n"
     ]
    }
   ],
   "source": [
    "dif1 = dff.distance.diff().fillna(dff.distance)\n",
    "dif2 = adfuller(dif1)\n",
    "print(f'p-value: {dif2[1]}')"
   ]
  },
  {
   "cell_type": "markdown",
   "id": "2b1a4e13",
   "metadata": {},
   "source": [
    "##### with 1step differencing,  p-value goes down to 0.05. so we need no more differencing and the d value in ARIMA_order is 1."
   ]
  },
  {
   "cell_type": "markdown",
   "id": "59f1016a",
   "metadata": {},
   "source": [
    "## ACF plot"
   ]
  },
  {
   "cell_type": "markdown",
   "id": "71c52a35",
   "metadata": {},
   "source": [
    "##### Looking at the number of lags crossing the threshold in ACF(except the first lag), we can determine how much of the past would be significant enough to consider for the future and determine the 'q', so: q=0"
   ]
  },
  {
   "cell_type": "code",
   "execution_count": 12,
   "id": "b5fc9275",
   "metadata": {},
   "outputs": [
    {
     "data": {
      "image/png": "[encoded data removed]",
      "text/plain": [
       "<Figure size 432x288 with 1 Axes>"
      ]
     },
     "metadata": {
      "needs_background": "light"
     },
     "output_type": "display_data"
    }
   ],
   "source": [
    "acf_plot = plot_acf(dff.distance)"
   ]
  },
  {
   "cell_type": "markdown",
   "id": "1f05cf36",
   "metadata": {},
   "source": [
    "## PACF"
   ]
  },
  {
   "cell_type": "markdown",
   "id": "f1a35cff",
   "metadata": {},
   "source": [
    "#####  we determine 'p' based on the number of most significant lag crossing the threshold in  the partial autocorrelation plot, except the first lag, cause it is the correlation of the first data with itself, so: p=0\n"
   ]
  },
  {
   "cell_type": "code",
   "execution_count": 13,
   "id": "9254d925",
   "metadata": {
    "scrolled": true
   },
   "outputs": [
    {
     "data": {
      "image/png": "[encoded data removed]",
      "text/plain": [
       "<Figure size 432x288 with 1 Axes>"
      ]
     },
     "metadata": {
      "needs_background": "light"
     },
     "output_type": "display_data"
    }
   ],
   "source": [
    "pacf_plot = plot_pacf(dff.distance , lags=int(len(dff.distance)/2 -1))"
   ]
  },
  {
   "cell_type": "markdown",
   "id": "8aa8077a",
   "metadata": {},
   "source": [
    "## ARIMA model"
   ]
  },
  {
   "cell_type": "markdown",
   "id": "52567dfb",
   "metadata": {},
   "source": [
    "#### based on ACF/PACF/stationary check, our order is (p,d,q)=(0,1,0)"
   ]
  },
  {
   "cell_type": "code",
   "execution_count": 14,
   "id": "9372cfff",
   "metadata": {
    "scrolled": false
   },
   "outputs": [
    {
     "name": "stdout",
     "output_type": "stream",
     "text": [
      "                             ARIMA Model Results                              \n",
      "==============================================================================\n",
      "Dep. Variable:             D.distance   No. Observations:                   12\n",
      "Model:                 ARIMA(0, 1, 0)   Log Likelihood                 -87.713\n",
      "Method:                           css   S.D. of innovations            361.578\n",
      "Date:                Sun, 13 Nov 2022   AIC                            179.426\n",
      "Time:                        20:55:06   BIC                            180.396\n",
      "Sample:                             1   HQIC                           179.067\n",
      "                                                                              \n",
      "==============================================================================\n",
      "                 coef    std err          z      P>|z|      [0.025      0.975]\n",
      "------------------------------------------------------------------------------\n",
      "const         -1.9929    104.379     -0.019      0.985    -206.571     202.585\n",
      "==============================================================================\n"
     ]
    },
    {
     "name": "stderr",
     "output_type": "stream",
     "text": [
      "e:\\Anaconda3\\lib\\site-packages\\statsmodels\\tsa\\arima_model.py:472: FutureWarning: \n",
      "statsmodels.tsa.arima_model.ARMA and statsmodels.tsa.arima_model.ARIMA have\n",
      "been deprecated in favor of statsmodels.tsa.arima.model.ARIMA (note the .\n",
      "between arima and model) and\n",
      "statsmodels.tsa.SARIMAX. These will be removed after the 0.12 release.\n",
      "\n",
      "statsmodels.tsa.arima.model.ARIMA makes use of the statespace framework and\n",
      "is both well tested and maintained.\n",
      "\n",
      "To silence this warning and continue using ARMA and ARIMA until they are\n",
      "removed, use:\n",
      "\n",
      "import warnings\n",
      "warnings.filterwarnings('ignore', 'statsmodels.tsa.arima_model.ARMA',\n",
      "                        FutureWarning)\n",
      "warnings.filterwarnings('ignore', 'statsmodels.tsa.arima_model.ARIMA',\n",
      "                        FutureWarning)\n",
      "\n",
      "  warnings.warn(ARIMA_DEPRECATION_WARN, FutureWarning)\n"
     ]
    }
   ],
   "source": [
    "model = ARIMA(dff.distance, order=(0,1,0))\n",
    "model_fit = model.fit()\n",
    "print(model_fit.summary())"
   ]
  },
  {
   "cell_type": "code",
   "execution_count": 15,
   "id": "b628b9fb",
   "metadata": {
    "scrolled": true
   },
   "outputs": [
    {
     "data": {
      "image/png": "[encoded data removed]",
      "text/plain": [
       "<Figure size 432x288 with 1 Axes>"
      ]
     },
     "metadata": {
      "needs_background": "light"
     },
     "output_type": "display_data"
    }
   ],
   "source": [
    "model_fit.plot_predict(dynamic=False)\n",
    "plt.show()"
   ]
  },
  {
   "cell_type": "markdown",
   "id": "bffc4e6b",
   "metadata": {},
   "source": [
    "## now it's time to insert some random parameter into ARIMA model:\n",
    "### model_fit1 = (0,1,1)"
   ]
  },
  {
   "cell_type": "code",
   "execution_count": 16,
   "id": "1e3b9081",
   "metadata": {},
   "outputs": [
    {
     "name": "stdout",
     "output_type": "stream",
     "text": [
      "                             ARIMA Model Results                              \n",
      "==============================================================================\n",
      "Dep. Variable:             D.distance   No. Observations:                   12\n",
      "Model:                 ARIMA(0, 1, 1)   Log Likelihood                 -83.256\n",
      "Method:                       css-mle   S.D. of innovations            224.114\n",
      "Date:                Sun, 13 Nov 2022   AIC                            172.511\n",
      "Time:                        20:55:06   BIC                            173.966\n",
      "Sample:                             1   HQIC                           171.973\n",
      "                                                                              \n",
      "====================================================================================\n",
      "                       coef    std err          z      P>|z|      [0.025      0.975]\n",
      "------------------------------------------------------------------------------------\n",
      "const               11.7453     16.612      0.707      0.480     -20.815      44.305\n",
      "ma.L1.D.distance    -1.0000      0.213     -4.700      0.000      -1.417      -0.583\n",
      "                                    Roots                                    \n",
      "=============================================================================\n",
      "                  Real          Imaginary           Modulus         Frequency\n",
      "-----------------------------------------------------------------------------\n",
      "MA.1            1.0000           +0.0000j            1.0000            0.0000\n",
      "-----------------------------------------------------------------------------\n"
     ]
    },
    {
     "name": "stderr",
     "output_type": "stream",
     "text": [
      "e:\\Anaconda3\\lib\\site-packages\\statsmodels\\tsa\\arima_model.py:472: FutureWarning: \n",
      "statsmodels.tsa.arima_model.ARMA and statsmodels.tsa.arima_model.ARIMA have\n",
      "been deprecated in favor of statsmodels.tsa.arima.model.ARIMA (note the .\n",
      "between arima and model) and\n",
      "statsmodels.tsa.SARIMAX. These will be removed after the 0.12 release.\n",
      "\n",
      "statsmodels.tsa.arima.model.ARIMA makes use of the statespace framework and\n",
      "is both well tested and maintained.\n",
      "\n",
      "To silence this warning and continue using ARMA and ARIMA until they are\n",
      "removed, use:\n",
      "\n",
      "import warnings\n",
      "warnings.filterwarnings('ignore', 'statsmodels.tsa.arima_model.ARMA',\n",
      "                        FutureWarning)\n",
      "warnings.filterwarnings('ignore', 'statsmodels.tsa.arima_model.ARIMA',\n",
      "                        FutureWarning)\n",
      "\n",
      "  warnings.warn(ARIMA_DEPRECATION_WARN, FutureWarning)\n"
     ]
    }
   ],
   "source": [
    "model = ARIMA(dff.distance, order=(0,1,1))\n",
    "model_fit1 = model.fit()\n",
    "print(model_fit1.summary())"
   ]
  },
  {
   "cell_type": "code",
   "execution_count": 17,
   "id": "879add41",
   "metadata": {
    "scrolled": true
   },
   "outputs": [
    {
     "data": {
      "image/png": "[encoded data removed]",
      "text/plain": [
       "<Figure size 432x288 with 1 Axes>"
      ]
     },
     "metadata": {
      "needs_background": "light"
     },
     "output_type": "display_data"
    }
   ],
   "source": [
    "model_fit1.plot_predict(dynamic=False)\n",
    "plt.show()"
   ]
  },
  {
   "cell_type": "markdown",
   "id": "904bbf4b",
   "metadata": {},
   "source": [
    "### model_fit2 = (2,1,0)"
   ]
  },
  {
   "cell_type": "code",
   "execution_count": 18,
   "id": "b8f56d07",
   "metadata": {},
   "outputs": [
    {
     "name": "stdout",
     "output_type": "stream",
     "text": [
      "                             ARIMA Model Results                              \n",
      "==============================================================================\n",
      "Dep. Variable:             D.distance   No. Observations:                   12\n",
      "Model:                 ARIMA(2, 1, 0)   Log Likelihood                 -82.406\n",
      "Method:                       css-mle   S.D. of innovations            213.524\n",
      "Date:                Sun, 13 Nov 2022   AIC                            172.813\n",
      "Time:                        20:55:06   BIC                            174.752\n",
      "Sample:                             1   HQIC                           172.095\n",
      "                                                                              \n",
      "====================================================================================\n",
      "                       coef    std err          z      P>|z|      [0.025      0.975]\n",
      "------------------------------------------------------------------------------------\n",
      "const               19.4923     22.920      0.850      0.395     -25.430      64.415\n",
      "ar.L1.D.distance    -1.2943      0.278     -4.663      0.000      -1.838      -0.750\n",
      "ar.L2.D.distance    -0.6397      0.279     -2.296      0.022      -1.186      -0.094\n",
      "                                    Roots                                    \n",
      "=============================================================================\n",
      "                  Real          Imaginary           Modulus         Frequency\n",
      "-----------------------------------------------------------------------------\n",
      "AR.1           -1.0117           -0.7347j            1.2503           -0.4000\n",
      "AR.2           -1.0117           +0.7347j            1.2503            0.4000\n",
      "-----------------------------------------------------------------------------\n"
     ]
    },
    {
     "name": "stderr",
     "output_type": "stream",
     "text": [
      "e:\\Anaconda3\\lib\\site-packages\\statsmodels\\tsa\\arima_model.py:472: FutureWarning: \n",
      "statsmodels.tsa.arima_model.ARMA and statsmodels.tsa.arima_model.ARIMA have\n",
      "been deprecated in favor of statsmodels.tsa.arima.model.ARIMA (note the .\n",
      "between arima and model) and\n",
      "statsmodels.tsa.SARIMAX. These will be removed after the 0.12 release.\n",
      "\n",
      "statsmodels.tsa.arima.model.ARIMA makes use of the statespace framework and\n",
      "is both well tested and maintained.\n",
      "\n",
      "To silence this warning and continue using ARMA and ARIMA until they are\n",
      "removed, use:\n",
      "\n",
      "import warnings\n",
      "warnings.filterwarnings('ignore', 'statsmodels.tsa.arima_model.ARMA',\n",
      "                        FutureWarning)\n",
      "warnings.filterwarnings('ignore', 'statsmodels.tsa.arima_model.ARIMA',\n",
      "                        FutureWarning)\n",
      "\n",
      "  warnings.warn(ARIMA_DEPRECATION_WARN, FutureWarning)\n"
     ]
    }
   ],
   "source": [
    "model = ARIMA(dff.distance, order=(2,1,0))\n",
    "model_fit2 = model.fit()\n",
    "print(model_fit2.summary())"
   ]
  },
  {
   "cell_type": "code",
   "execution_count": 19,
   "id": "04895377",
   "metadata": {
    "scrolled": true
   },
   "outputs": [
    {
     "data": {
      "image/png": "[encoded data removed]",
      "text/plain": [
       "<Figure size 432x288 with 1 Axes>"
      ]
     },
     "metadata": {
      "needs_background": "light"
     },
     "output_type": "display_data"
    }
   ],
   "source": [
    "model_fit2.plot_predict(dynamic=False)\n",
    "plt.show()"
   ]
  },
  {
   "cell_type": "markdown",
   "id": "640b9360",
   "metadata": {},
   "source": [
    "### model_fit3 = (0,1,3)"
   ]
  },
  {
   "cell_type": "code",
   "execution_count": 20,
   "id": "81e6280c",
   "metadata": {},
   "outputs": [
    {
     "name": "stdout",
     "output_type": "stream",
     "text": [
      "                             ARIMA Model Results                              \n",
      "==============================================================================\n",
      "Dep. Variable:             D.distance   No. Observations:                   12\n",
      "Model:                 ARIMA(0, 1, 3)   Log Likelihood                 -81.392\n",
      "Method:                       css-mle   S.D. of innovations            159.004\n",
      "Date:                Sun, 13 Nov 2022   AIC                            172.783\n",
      "Time:                        20:55:07   BIC                            175.208\n",
      "Sample:                             1   HQIC                           171.886\n",
      "                                                                              \n",
      "====================================================================================\n",
      "                       coef    std err          z      P>|z|      [0.025      0.975]\n",
      "------------------------------------------------------------------------------------\n",
      "const               22.4616      9.204      2.440      0.015       4.421      40.502\n",
      "ma.L1.D.distance    -2.0314      0.249     -8.164      0.000      -2.519      -1.544\n",
      "ma.L2.D.distance     2.0314        nan        nan        nan         nan         nan\n",
      "ma.L3.D.distance    -1.0000        nan        nan        nan         nan         nan\n",
      "                                    Roots                                    \n",
      "=============================================================================\n",
      "                  Real          Imaginary           Modulus         Frequency\n",
      "-----------------------------------------------------------------------------\n",
      "MA.1            1.0000           -0.0000j            1.0000           -0.0000\n",
      "MA.2            0.5157           -0.8568j            1.0000           -0.1638\n",
      "MA.3            0.5157           +0.8568j            1.0000            0.1638\n",
      "-----------------------------------------------------------------------------\n"
     ]
    },
    {
     "name": "stderr",
     "output_type": "stream",
     "text": [
      "e:\\Anaconda3\\lib\\site-packages\\statsmodels\\tsa\\arima_model.py:472: FutureWarning: \n",
      "statsmodels.tsa.arima_model.ARMA and statsmodels.tsa.arima_model.ARIMA have\n",
      "been deprecated in favor of statsmodels.tsa.arima.model.ARIMA (note the .\n",
      "between arima and model) and\n",
      "statsmodels.tsa.SARIMAX. These will be removed after the 0.12 release.\n",
      "\n",
      "statsmodels.tsa.arima.model.ARIMA makes use of the statespace framework and\n",
      "is both well tested and maintained.\n",
      "\n",
      "To silence this warning and continue using ARMA and ARIMA until they are\n",
      "removed, use:\n",
      "\n",
      "import warnings\n",
      "warnings.filterwarnings('ignore', 'statsmodels.tsa.arima_model.ARMA',\n",
      "                        FutureWarning)\n",
      "warnings.filterwarnings('ignore', 'statsmodels.tsa.arima_model.ARIMA',\n",
      "                        FutureWarning)\n",
      "\n",
      "  warnings.warn(ARIMA_DEPRECATION_WARN, FutureWarning)\n",
      "e:\\Anaconda3\\lib\\site-packages\\statsmodels\\base\\model.py:547: HessianInversionWarning: Inverting hessian failed, no bse or cov_params available\n",
      "  warnings.warn('Inverting hessian failed, no bse or cov_params '\n",
      "e:\\Anaconda3\\lib\\site-packages\\statsmodels\\tsa\\arima_model.py:1521: RuntimeWarning: invalid value encountered in sqrt\n",
      "  return np.sqrt(np.diag(-inv(hess)))\n"
     ]
    }
   ],
   "source": [
    "model = ARIMA(dff.distance, order=(0,1,3))\n",
    "model_fit3 = model.fit()\n",
    "print(model_fit3.summary())"
   ]
  },
  {
   "cell_type": "code",
   "execution_count": 21,
   "id": "7ab460d1",
   "metadata": {},
   "outputs": [
    {
     "data": {
      "image/png": "[encoded data removed]",
      "text/plain": [
       "<Figure size 432x288 with 1 Axes>"
      ]
     },
     "metadata": {
      "needs_background": "light"
     },
     "output_type": "display_data"
    }
   ],
   "source": [
    "model_fit3.plot_predict(dynamic=False)\n",
    "plt.show()"
   ]
  },
  {
   "cell_type": "markdown",
   "id": "7ce98b5b",
   "metadata": {},
   "source": [
    "## Conclusion"
   ]
  },
  {
   "cell_type": "markdown",
   "id": "ccc2dc53",
   "metadata": {},
   "source": [
    "#### as you can see none of them is really accurate except the first one.\n",
    "#### finding the best fit order for(p,d,q) is really important, so we use the model_fit order(0,1,0) and put the order into predict() and forecast() function for as many days as we want. for example 4  days."
   ]
  },
  {
   "cell_type": "code",
   "execution_count": 22,
   "id": "d530e605",
   "metadata": {},
   "outputs": [
    {
     "name": "stdout",
     "output_type": "stream",
     "text": [
      "(array([-0.7236475, -2.716595 , -4.7095425, -6.70249  ]), array([361.57775697, 511.34816776, 626.27104596, 723.15551395]), array([[ -709.40302878,   707.95573378],\n",
      "       [-1004.94058738,   999.50739738],\n",
      "       [-1232.17823715,  1222.75915215],\n",
      "       [-1424.06125256,  1410.65627256]]))\n"
     ]
    }
   ],
   "source": [
    "#prediction for 4 days later\n",
    "model_fit.predict()\n",
    "print(model_fit.forecast(4))"
   ]
  },
  {
   "cell_type": "code",
   "execution_count": null,
   "id": "ace0c3ca",
   "metadata": {},
   "outputs": [],
   "source": []
  }
 ],
 "metadata": {
  "kernelspec": {
   "display_name": "Python 3",
   "language": "python",
   "name": "python3"
  },
  "language_info": {
   "codemirror_mode": {
    "name": "ipython",
    "version": 3
   },
   "file_extension": ".py",
   "mimetype": "text/x-python",
   "name": "python",
   "nbconvert_exporter": "python",
   "pygments_lexer": "ipython3",
   "version": "3.8.8"
  }
 },
 "nbformat": 4,
 "nbformat_minor": 5
}
